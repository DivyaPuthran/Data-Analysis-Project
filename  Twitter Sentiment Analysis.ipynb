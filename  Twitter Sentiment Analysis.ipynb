{
 "cells": [
  {
   "cell_type": "markdown",
   "id": "3c10d9b6",
   "metadata": {},
   "source": [
    "# Twitter Sentiment Analysis\n",
    "\n",
    "* In this problem, we'll analyze some fictional tweets and find out whether the overall sentiment of Twitter users is happy or sad. This is a simplified version of an important real world problem called **\"sentiment analysis\"**. \n",
    "\n",
    "* Before we begin, we need a list of tweets to analyze. We're picking a small number of tweets here, but the exact same analysis can also be done for thousands, or even millions of tweets. The collection of data that we perform analysis on is often called a **\"dataset\"** "
   ]
  },
  {
   "cell_type": "code",
   "execution_count": 4,
   "id": "8a803caf",
   "metadata": {},
   "outputs": [],
   "source": [
    "tweets = [\n",
    "    \"Wow, what a great day today!! #sunshine\",\n",
    "    \"I feel sad about the things going on around us. #covid19\",\n",
    "    \"I'm really excited to learn Python with @JovianML #zerotopandas\",\n",
    "    \"This is a really nice song. #linkinpark\",\n",
    "    \"The python programming language is useful for data science\",\n",
    "    \"Why do bad things happen to me?\",\n",
    "    \"Apple announces the release of the new iPhone 12. Fans are excited.\",\n",
    "    \"Spent my day with family!! #happy\",\n",
    "    \"Check out my blog post on common string operations in Python. #zerotopandas\",\n",
    "    \"Freecodecamp has great coding tutorials. #skillup\"\n",
    "]"
   ]
  },
  {
   "cell_type": "markdown",
   "id": "b4696bd9",
   "metadata": {},
   "source": [
    "**Q1: How many tweets does the dataset contain?**"
   ]
  },
  {
   "cell_type": "code",
   "execution_count": 5,
   "id": "73356e5a",
   "metadata": {},
   "outputs": [
    {
     "name": "stdout",
     "output_type": "stream",
     "text": [
      "Total No of tweets is  10\n"
     ]
    }
   ],
   "source": [
    "number_of_tweets = len(tweets)\n",
    "print (\"Total No of tweets is \", number_of_tweets)"
   ]
  },
  {
   "cell_type": "markdown",
   "id": "390e99f3",
   "metadata": {},
   "source": [
    "* Let's create two lists of words: `happy_words` and `sad_words`. We will use these to check if a tweet is happy or sad."
   ]
  },
  {
   "cell_type": "code",
   "execution_count": 6,
   "id": "6ef6e4ae",
   "metadata": {},
   "outputs": [],
   "source": [
    "happy_words = ['great', 'excited', 'happy', 'nice', 'wonderful', 'amazing', 'good', 'best']"
   ]
  },
  {
   "cell_type": "code",
   "execution_count": 7,
   "id": "716b12dc",
   "metadata": {},
   "outputs": [],
   "source": [
    "sad_words = ['sad', 'bad', 'tragic', 'unhappy', 'worst']"
   ]
  },
  {
   "cell_type": "markdown",
   "id": "75c702ed",
   "metadata": {},
   "source": [
    "* To identify whether a tweet is happy, we can simply check if contains any of the words from `happy_words`. "
   ]
  },
  {
   "cell_type": "code",
   "execution_count": 8,
   "id": "7ad97c44",
   "metadata": {},
   "outputs": [
    {
     "data": {
      "text/plain": [
       "'Wow, what a great day today!! #sunshine'"
      ]
     },
     "execution_count": 8,
     "metadata": {},
     "output_type": "execute_result"
    }
   ],
   "source": [
    "sample_tweet = tweets[0]\n",
    "sample_tweet"
   ]
  },
  {
   "cell_type": "code",
   "execution_count": 9,
   "id": "d03f598d",
   "metadata": {},
   "outputs": [],
   "source": [
    "is_tweet_happy = False\n",
    "\n",
    "# Get a word from happy_words\n",
    "for word in happy_words:\n",
    "    # Check if the tweet contains the word\n",
    "    if word in sample_tweet:\n",
    "        # Word found! Mark the tweet as happy\n",
    "        is_tweet_happy = True"
   ]
  },
  {
   "cell_type": "markdown",
   "id": "b9549377",
   "metadata": {},
   "source": [
    "* Do you understand what we're doing above? \n",
    "\n",
    "> For each word in the list of happy words, we check if is a part of the selected tweet. If the word is indded a part of the tweet, we set the variable `is_tweet_happy` to `True`. "
   ]
  },
  {
   "cell_type": "code",
   "execution_count": 10,
   "id": "f5d4c84f",
   "metadata": {},
   "outputs": [
    {
     "data": {
      "text/plain": [
       "True"
      ]
     },
     "execution_count": 10,
     "metadata": {},
     "output_type": "execute_result"
    }
   ],
   "source": [
    "is_tweet_happy"
   ]
  },
  {
   "cell_type": "markdown",
   "id": "9cc87ceb",
   "metadata": {},
   "source": [
    "**Q2: Determine the number of tweets in the dataset that can be classified as happy.**\n"
   ]
  },
  {
   "cell_type": "code",
   "execution_count": 11,
   "id": "e978f6a8",
   "metadata": {},
   "outputs": [],
   "source": [
    "# store the final answer in this variable\n",
    "number_of_happy_tweets = 0\n",
    "\n",
    "# perform the calculations here\n",
    "for i in tweets:\n",
    "    is_tweet_happy = False\n",
    "    for word in happy_words:\n",
    "        # Check if the tweet contains the word\n",
    "        if word in i:\n",
    "            # Word found! Mark the tweet as happy\n",
    "            is_tweet_happy = True\n",
    "            if is_tweet_happy == True:\n",
    "                number_of_happy_tweets += 1"
   ]
  },
  {
   "cell_type": "code",
   "execution_count": 12,
   "id": "f86176c2",
   "metadata": {},
   "outputs": [
    {
     "name": "stdout",
     "output_type": "stream",
     "text": [
      "Number of happy tweets: 6\n"
     ]
    }
   ],
   "source": [
    "print(\"Number of happy tweets:\", number_of_happy_tweets)"
   ]
  },
  {
   "cell_type": "markdown",
   "id": "ab38e344",
   "metadata": {},
   "source": [
    "**Q3: What fraction of the total number of tweets are happy?**\n",
    "\n",
    "For example, if 2 out of 10 tweets are happy, then the answer is `2/10` i.e. `0.2`."
   ]
  },
  {
   "cell_type": "code",
   "execution_count": 13,
   "id": "ac3c22d3",
   "metadata": {},
   "outputs": [],
   "source": [
    "happy_fraction = number_of_happy_tweets/number_of_tweets\n",
    "happy_fraction_str = str(number_of_happy_tweets)+str(\"/\")+str(number_of_tweets)+str(\" i.e \")+str(happy_fraction)"
   ]
  },
  {
   "cell_type": "code",
   "execution_count": 14,
   "id": "745eebff",
   "metadata": {},
   "outputs": [
    {
     "name": "stdout",
     "output_type": "stream",
     "text": [
      "The fraction of happy tweets is: 6/10 i.e 0.6\n"
     ]
    }
   ],
   "source": [
    "print(\"The fraction of happy tweets is:\", happy_fraction_str)"
   ]
  },
  {
   "cell_type": "markdown",
   "id": "ad765ebe",
   "metadata": {},
   "source": [
    "* To identify whether a tweet is sad, we can simply check if contains any of the words from `sad_words`.\n",
    "\n",
    "**Q4: Determine the number of tweets in the dataset that can be classified as sad.**"
   ]
  },
  {
   "cell_type": "code",
   "execution_count": 15,
   "id": "82a2e074",
   "metadata": {},
   "outputs": [],
   "source": [
    "# store the final answer in this variable\n",
    "number_of_sad_tweets = 0\n",
    "\n",
    "# perform the calculations here\n",
    "for tweet in tweets:\n",
    "    is_tweet_sad = False\n",
    "    for word in sad_words:\n",
    "        # Check if the tweet contains the word\n",
    "        if word in tweet:\n",
    "            # Word found! Mark the tweet as happy\n",
    "            is_tweet_sad = True\n",
    "            if is_tweet_sad == True:\n",
    "                number_of_sad_tweets += 1"
   ]
  },
  {
   "cell_type": "code",
   "execution_count": 16,
   "id": "9cd3ff56",
   "metadata": {},
   "outputs": [
    {
     "name": "stdout",
     "output_type": "stream",
     "text": [
      "Number of sad tweets: 2\n"
     ]
    }
   ],
   "source": [
    "print(\"Number of sad tweets:\", number_of_sad_tweets)"
   ]
  },
  {
   "cell_type": "markdown",
   "id": "cd035358",
   "metadata": {},
   "source": [
    "**Q5: What fraction of the total number of tweets are sad?**"
   ]
  },
  {
   "cell_type": "code",
   "execution_count": 17,
   "id": "f9682759",
   "metadata": {},
   "outputs": [],
   "source": [
    "sad_fraction = number_of_sad_tweets/number_of_tweets\n",
    "sad_fraction_str = str(number_of_sad_tweets)+str(\"/\")+str(number_of_tweets)+str(\" i.e \")+str(sad_fraction)"
   ]
  },
  {
   "cell_type": "code",
   "execution_count": 18,
   "id": "553db305",
   "metadata": {},
   "outputs": [
    {
     "name": "stdout",
     "output_type": "stream",
     "text": [
      "The fraction of sad tweets is: 2/10 i.e 0.2\n"
     ]
    }
   ],
   "source": [
    "print(\"The fraction of sad tweets is:\", sad_fraction_str)"
   ]
  },
  {
   "cell_type": "markdown",
   "id": "beeafc71",
   "metadata": {},
   "source": [
    " With some basic analysis, we already know a lot about the sentiment of the tweets given to us. Let us now define a metric called \"sentiment score\", to summarize the overall sentiment of the tweets.\n",
    "\n",
    "**Q6: Calculate the sentiment score, which is defined as the difference betweek the fraction of happy tweets and the fraction of sad tweets.**"
   ]
  },
  {
   "cell_type": "code",
   "execution_count": 19,
   "id": "1681d329",
   "metadata": {},
   "outputs": [],
   "source": [
    "sentiment_score = happy_fraction - sad_fraction"
   ]
  },
  {
   "cell_type": "code",
   "execution_count": 20,
   "id": "04738ca2",
   "metadata": {},
   "outputs": [
    {
     "name": "stdout",
     "output_type": "stream",
     "text": [
      "The sentiment score for the given tweets is 0.4\n"
     ]
    }
   ],
   "source": [
    "print(\"The sentiment score for the given tweets is\", round(sentiment_score,5))"
   ]
  },
  {
   "cell_type": "markdown",
   "id": "152ab079",
   "metadata": {},
   "source": [
    "**Q7: Display whether the overall sentiment of the given dataset of tweets is happy or sad, using the sentiment score.**"
   ]
  },
  {
   "cell_type": "code",
   "execution_count": 21,
   "id": "2af73e4f",
   "metadata": {},
   "outputs": [
    {
     "name": "stdout",
     "output_type": "stream",
     "text": [
      "The overall sentiment is happy\n"
     ]
    }
   ],
   "source": [
    "if sentiment_score >= 0:\n",
    "    print(\"The overall sentiment is happy\")\n",
    "else:\n",
    "    print(\"The overall sentiment is sad\")"
   ]
  },
  {
   "cell_type": "markdown",
   "id": "62531d49",
   "metadata": {},
   "source": [
    "Finally, it's also important to track how many tweets are neutral i.e. neither happy nor sad. If a large fraction of tweets are marked neutral, maybe we need to improve our lists of happy and sad words. \n",
    "\n",
    "**Q8: What is the fraction of tweets that are neutral i.e. neither happy nor sad.**"
   ]
  },
  {
   "cell_type": "code",
   "execution_count": 22,
   "id": "f269de96",
   "metadata": {},
   "outputs": [],
   "source": [
    "# store the final answer in this variable\n",
    "number_of_neutral_tweets = 0\n",
    "\n",
    "# perform the calculation here\n",
    "for tweet in tweets:\n",
    "    neutral_mood = True\n",
    "    for word in happy_words:\n",
    "        # Checking if the tweet contain the word\n",
    "        if word in tweet:\n",
    "            # Marking the tweet as true if found \n",
    "            neutral_mood = False\n",
    "        else:\n",
    "            for word in sad_words:\n",
    "                # Checking if the tweet contains the word\n",
    "                if word in tweet:\n",
    "                    # Marking the tweet as happy\n",
    "                    neutral_mood = False\n",
    "    if neutral_mood == True:\n",
    "        number_of_neutral_tweets +=1"
   ]
  },
  {
   "cell_type": "code",
   "execution_count": 23,
   "id": "f83a8071",
   "metadata": {},
   "outputs": [],
   "source": [
    "neutral_fraction = number_of_neutral_tweets / number_of_tweets"
   ]
  },
  {
   "cell_type": "code",
   "execution_count": 24,
   "id": "a1be9399",
   "metadata": {},
   "outputs": [
    {
     "name": "stdout",
     "output_type": "stream",
     "text": [
      "The fraction of neutral tweets is 0.2\n"
     ]
    }
   ],
   "source": [
    "print('The fraction of neutral tweets is', neutral_fraction)"
   ]
  },
  {
   "cell_type": "code",
   "execution_count": null,
   "id": "06e0bfc8",
   "metadata": {},
   "outputs": [],
   "source": []
  }
 ],
 "metadata": {
  "kernelspec": {
   "display_name": "Python 3",
   "language": "python",
   "name": "python3"
  },
  "language_info": {
   "codemirror_mode": {
    "name": "ipython",
    "version": 3
   },
   "file_extension": ".py",
   "mimetype": "text/x-python",
   "name": "python",
   "nbconvert_exporter": "python",
   "pygments_lexer": "ipython3",
   "version": "3.8.8"
  }
 },
 "nbformat": 4,
 "nbformat_minor": 5
}
